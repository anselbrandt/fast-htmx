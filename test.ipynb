{
 "cells": [
  {
   "cell_type": "code",
   "execution_count": 14,
   "metadata": {},
   "outputs": [],
   "source": [
    "import requests\n",
    "import redis\n",
    "import json\n",
    "import time\n",
    "\n",
    "cache = redis.Redis(decode_responses=True)\n",
    "url = \"https://air.anselbrandt.net/api/copy\"\n",
    "data = {\"filename\": \"2024-11-19-raspios-bookworm-arm64-lite.img.xz\"}"
   ]
  },
  {
   "cell_type": "code",
   "execution_count": 15,
   "metadata": {},
   "outputs": [],
   "source": [
    "res = requests.post(url, json=data)\n",
    "id = res.json()"
   ]
  },
  {
   "cell_type": "code",
   "execution_count": null,
   "metadata": {},
   "outputs": [],
   "source": [
    "done = False\n",
    "\n",
    "while not done:\n",
    "    time.sleep(1)\n",
    "    result = cache.get(id)\n",
    "    data = json.loads(result)\n",
    "    transferred, total = data.values()\n",
    "    if transferred == total and total > 0:\n",
    "        done = True\n",
    "    progress = 0 if total == 0 else round((transferred / total) * 100)\n",
    "    print(progress)"
   ]
  }
 ],
 "metadata": {
  "kernelspec": {
   "display_name": "fast",
   "language": "python",
   "name": "python3"
  },
  "language_info": {
   "codemirror_mode": {
    "name": "ipython",
    "version": 3
   },
   "file_extension": ".py",
   "mimetype": "text/x-python",
   "name": "python",
   "nbconvert_exporter": "python",
   "pygments_lexer": "ipython3",
   "version": "3.12.8"
  }
 },
 "nbformat": 4,
 "nbformat_minor": 2
}
